{
 "cells": [
  {
   "cell_type": "markdown",
   "metadata": {},
   "source": [
    "# Python Script to create PDF from dashboard based on parameters\n",
    "## Importing libraries and features"
   ]
  },
  {
   "cell_type": "code",
   "execution_count": null,
   "metadata": {},
   "outputs": [],
   "source": [
    "pip install PyPDF2"
   ]
  },
  {
   "cell_type": "code",
   "execution_count": 179,
   "metadata": {},
   "outputs": [],
   "source": [
    "import os, keyring, re, configparser, warnings, urllib, requests, shutil, json\n",
    "from PyPDF2 import PdfFileMerger, PdfFileReader\n",
    "from fpdf import FPDF\n",
    "from PIL import Image\n",
    "import math\n",
    "import datetime\n",
    "from getpass import getpass\n",
    "from pathlib import Path\n",
    "warnings.filterwarnings('ignore')\n",
    "config = configparser.ConfigParser()\n",
    "connection = configparser.ConfigParser()\n",
    "config.read(r\".\\tableau_server_pdf_generator_config.cfg\")\n",
    "connection.read(r\".\\tableau_server_pdf_generator_connection.cfg\")\n",
    "illegal_chars = config[\"logging_details\"][\"illegalchars\"].split(',')"
   ]
  },
  {
   "cell_type": "markdown",
   "metadata": {},
   "source": [
    "## Setting of  Variables"
   ]
  },
  {
   "cell_type": "code",
   "execution_count": 180,
   "metadata": {},
   "outputs": [],
   "source": [
    "server = connection[\"server_connection\"][\"server\"] # Enter site in format tableau.company.com without the https before it\n",
    "site_content_url = connection[\"server_connection\"][\"site\"] # This can be found from the URL of the content and if using the Default site then this will be blank\n",
    "api_ver = connection[\"server_connection\"][\"api\"] # This can be found from the Tableau Server REST API reference\n",
    "URL = \"https://{}/api/{}\".format(server, api_ver)"
   ]
  },
  {
   "cell_type": "markdown",
   "metadata": {},
   "source": [
    "## Initiate Log File"
   ]
  },
  {
   "cell_type": "code",
   "execution_count": 133,
   "metadata": {},
   "outputs": [],
   "source": [
    "log_file_loc = r\"{}\\{}\".format(str(Path.home()), config[\"logging_details\"][\"logfilename\"])\n",
    "log_file = open(log_file_loc, \"a+\")"
   ]
  },
  {
   "cell_type": "markdown",
   "metadata": {},
   "source": [
    "## Functions\n",
    "### Fn to open Log file"
   ]
  },
  {
   "cell_type": "code",
   "execution_count": 134,
   "metadata": {},
   "outputs": [],
   "source": [
    "def open_log(log_file):\n",
    "    if log_file.closed:\n",
    "        log_file_loc = r\"{}\\{}\".format(str(Path.home()), config[\"logging_details\"][\"logfilename\"])\n",
    "        log_file = open(log_file_loc, \"a+\")\n",
    "        return log_file \n",
    "    else:\n",
    "        return "
   ]
  },
  {
   "cell_type": "markdown",
   "metadata": {},
   "source": [
    "### Fn to check errors"
   ]
  },
  {
   "cell_type": "code",
   "execution_count": 135,
   "metadata": {},
   "outputs": [],
   "source": [
    "def check_error(request, task):\n",
    "    if task == \"sign_in\":\n",
    "        if request.status_code == 200:\n",
    "            print(\"\\t\\tUser signed in successfully!\")\n",
    "            return 1\n",
    "        elif request.status_code == 404:\n",
    "            print(\"\\t\\tERROR: User not found!!\")\n",
    "            return 0\n",
    "        elif request.status_code == 401:\n",
    "            print(\"\\t\\tERROR: Login error!!\")\n",
    "            return 0\n",
    "        else:\n",
    "            print(\"\\t\\tERROR: Request error check again!!\")\n",
    "            return 0\n",
    "        \n",
    "    elif task == \"sign_out\":\n",
    "        if request.status_code == 204:\n",
    "            print(\"\\t\\tUser signed out successfully!\")\n",
    "            return 1\n",
    "        else:\n",
    "            print(\"\\t\\tERROR: Request error check again!!\")\n",
    "            return 0\n",
    "        \n",
    "    elif task == \"create_users\":\n",
    "        if request.status_code == 201:\n",
    "            print(\"\\t\\tUser created successfully!\")\n",
    "            return 1\n",
    "        elif request.status_code == 404:\n",
    "            print(\"\\t\\tERROR: Site not found!!\")\n",
    "            return 0\n",
    "        elif request.status_code == 409:\n",
    "            print(\"\\t\\tERROR: User exists or license unavailable, check again!!\")\n",
    "            return 0\n",
    "        elif request.status_code == 400:\n",
    "            print(\"\\t\\tERROR: Invalid site role or bad request!!\")\n",
    "            return 0\n",
    "        else:\n",
    "            print(\"\\t\\tERROR: Request error check again!!\")\n",
    "            return 0\n",
    "        \n",
    "    elif task == \"update_users\":\n",
    "        if request.status_code == 200:\n",
    "            print(\"\\t\\tUser information updated successfully!\")\n",
    "            return 1\n",
    "        elif request.status_code == 404:\n",
    "            print(\"\\t\\tERROR: User or Site not found!!\")\n",
    "            return 0\n",
    "        elif request.status_code == 409:\n",
    "            print(\"\\t\\tERROR: User exists or license unavailable, check again!!\")\n",
    "            return 0\n",
    "        elif request.status_code == 400:\n",
    "            print(\"\\t\\tERROR: Invalid site role, email address or bad request!!\")\n",
    "            return 0\n",
    "        elif request.status_code == 403:\n",
    "            print(\"\\t\\tERROR: Licensing update on self or guest account not allowed!!\")\n",
    "            return 0\n",
    "        else:\n",
    "            print(\"\\t\\tERROR: Request error check again!!\")\n",
    "            return 0\n",
    "        \n",
    "    elif task == \"find_group_id\":\n",
    "        if request.status_code == 200:\n",
    "            print(\"\\t\\tGroup found!\")\n",
    "            return 1\n",
    "        elif request.status_code == 404:\n",
    "            print(\"\\t\\tERROR: Site not found!!\")\n",
    "            return 0\n",
    "        else:\n",
    "            print(\"\\t\\tERROR: Request error check again!!\")\n",
    "            return 0\n",
    "        \n",
    "    elif task == \"add_user_group\":\n",
    "        if request.status_code == 200:\n",
    "            print(\"\\t\\tUser added to group successfully!\")\n",
    "            return 1\n",
    "        elif request.status_code == 404:\n",
    "            print(\"\\t\\tERROR: Site or Group not found!!\")\n",
    "            return 0\n",
    "        elif request.status_code == 409:\n",
    "            print(\"\\t\\tERROR: Specified User already in group!!\")\n",
    "            return 0\n",
    "        else:\n",
    "            print(\"\\t\\tERROR: Request error check again!!\")\n",
    "            return 0\n",
    "    elif task == \"query_workbook_id\":\n",
    "        if request.status_code == 200:\n",
    "            print(\"\\t\\tQueried workbook name successfully!\")\n",
    "            return 1\n",
    "        elif request.status_code == 400:\n",
    "            print(\"\\t\\tERROR: Pagination error!!\")\n",
    "            return \n",
    "        elif request.status_code == 403:\n",
    "            print(\"\\t\\tERROR: Forbidden to read workbook!!\")\n",
    "            return 0\n",
    "        elif request.status_code == 404:\n",
    "            print(\"\\t\\tERROR: Site or workbook not found!!\")\n",
    "            return 0\n",
    "        else:\n",
    "            print(\"\\t\\tERROR: Request error check again!!\")\n",
    "            return 0\n",
    "    elif task == \"query_view_image\":\n",
    "        if request.status_code == 200:\n",
    "            print(\"\\t\\tQueried view image successfully!\")\n",
    "            return 1\n",
    "        elif request.status_code == 403:\n",
    "            print(\"\\t\\tERROR: Forbidden to view image!!\")\n",
    "            return 0\n",
    "        elif request.status_code == 404:\n",
    "            print(\"\\t\\tERROR: Site, workbook or view not found!!\")\n",
    "            return 0\n",
    "        else:\n",
    "            print(\"\\t\\tERROR: Request error check again!!\")\n",
    "            return 0\n",
    "    elif task == \"query_view_pdf\":\n",
    "        if request.status_code == 200:\n",
    "            print(\"\\t\\tQueried view pdf successfully!\")\n",
    "            return 1\n",
    "        elif request.status_code == 400:\n",
    "            print(\"\\t\\tERROR: The view ID in the URI doesn't correspond to a view available on the specified site.!!\")\n",
    "            return 0\n",
    "        elif request.status_code == 401:\n",
    "            print(\"\\t\\tERROR: Unauthorized!!\")\n",
    "            return 0\n",
    "        elif request.status_code == 403:\n",
    "            print(\"\\t\\tERROR: Forbidden to view pdf!!\")\n",
    "            return 0\n",
    "        elif request.status_code == 404:\n",
    "            print(\"\\t\\tERROR: Site, workbook or view not found!!\")\n",
    "            return 0\n",
    "        elif request.status_code == 405:\n",
    "            print(\"\\t\\tERROR: Invalid request method!!\")\n",
    "            return 0\n",
    "        else:\n",
    "            print(\"\\t\\tERROR: Request error check again!!\")\n",
    "            return 0\n",
    "    elif task == \"download_workbook\":\n",
    "        if request.status_code == 200:\n",
    "            print(\"\\t\\tDownloaded Workbook successfully!\")\n",
    "            return 1\n",
    "        elif request.status_code == 403:\n",
    "            print(\"\\t\\tERROR: Forbidden to view workbook!!\")\n",
    "            return 0\n",
    "        elif request.status_code == 404:\n",
    "            print(\"\\t\\tERROR: Site or workbook not found!!\")\n",
    "            return 0\n",
    "        else:\n",
    "            print(\"\\t\\tERROR: Request error check again!!\")\n",
    "            return 0\n",
    "    elif task == \"query_view_data\":\n",
    "        if request.status_code == 200:\n",
    "            print(\"\\t\\tQueried view data successfully!\")\n",
    "            return 1\n",
    "        elif request.status_code == 401:\n",
    "            print(\"\\t\\tERROR: Invalid token!!\")\n",
    "            return 0\n",
    "        elif request.status_code == 403:\n",
    "            print(\"\\t\\tERROR: Forbidden to view data!!\")\n",
    "            return 0\n",
    "        elif request.status_code == 404:\n",
    "            print(\"\\t\\tERROR: Site, workbook or view not found!!\")\n",
    "            return 0\n",
    "        else:\n",
    "            print(\"\\t\\tERROR: Request error check again!!\")\n",
    "            return 0"
   ]
  },
  {
   "cell_type": "markdown",
   "metadata": {},
   "source": [
    "### Fn to sign in to Server with a password"
   ]
  },
  {
   "cell_type": "code",
   "execution_count": 136,
   "metadata": {},
   "outputs": [],
   "source": [
    "def sign_in(username, password, site=\"\"):\n",
    "    body = {\n",
    "        \"credentials\": {\n",
    "            \"name\": username,\n",
    "            \"password\": password,\n",
    "            \"site\": {\n",
    "                \"contentUrl\": site\n",
    "            }\n",
    "        }\n",
    "    }\n",
    "    response = requests.post(\n",
    "        URL + '/auth/signin', \n",
    "        json=body, \n",
    "        verify=False, \n",
    "        headers={'Accept': 'application/json'}\n",
    "    )\n",
    "    \n",
    "    status = check_error(response, \"sign_in\")\n",
    "    if status:\n",
    "        return response.json()['credentials']['site']['id'], response.json()['credentials']['token']\n",
    "    else:\n",
    "        return 0,0"
   ]
  },
  {
   "cell_type": "markdown",
   "metadata": {},
   "source": [
    "### Fn to sign in to Server with a PAT"
   ]
  },
  {
   "cell_type": "code",
   "execution_count": 137,
   "metadata": {},
   "outputs": [],
   "source": [
    "def sign_in_pat(username, password, site=\"\"):\n",
    "    body = {\n",
    "        \"credentials\": {\n",
    "            \"personalAccessTokenName\": username,\n",
    "            \"personalAccessTokenSecret\": password,\n",
    "            \"site\": {\n",
    "                \"contentUrl\": site\n",
    "            }\n",
    "        }\n",
    "    }\n",
    "    response = requests.post(\n",
    "        URL + '/auth/signin', \n",
    "        json=body, \n",
    "        verify=False, \n",
    "        headers={'Accept': 'application/json'}\n",
    "    )\n",
    "    \n",
    "    status = check_error(response, \"sign_in\")\n",
    "    if status:\n",
    "        return response.json()['credentials']['site']['id'], response.json()['credentials']['token']\n",
    "    else:\n",
    "        return 0,0"
   ]
  },
  {
   "cell_type": "markdown",
   "metadata": {},
   "source": [
    "### Fn to sign out from Server"
   ]
  },
  {
   "cell_type": "code",
   "execution_count": 138,
   "metadata": {},
   "outputs": [],
   "source": [
    "def sign_out(site_id, token):\n",
    "    response = requests.post(\n",
    "        URL + '/auth/signout', \n",
    "        verify=False, \n",
    "        headers={'Accept': 'application/json',\n",
    "                'X-Tableau-Auth': token}\n",
    "    )\n",
    "    status = check_error(response, \"sign_out\")\n",
    "    #log_file.close()\n",
    "    return status"
   ]
  },
  {
   "cell_type": "markdown",
   "metadata": {},
   "source": [
    "### Fn to generate list of items from delimited string"
   ]
  },
  {
   "cell_type": "code",
   "execution_count": 139,
   "metadata": {},
   "outputs": [],
   "source": [
    "def gen_list(orig_list):\n",
    "    temp_list = orig_list.split(',')\n",
    "    final_list = []\n",
    "    for item in temp_list:\n",
    "        item_name = (item.lstrip()).rstrip()\n",
    "        final_list.append(item_name)\n",
    "    return final_list"
   ]
  },
  {
   "cell_type": "markdown",
   "metadata": {},
   "source": [
    "### Fn to find workbook id from workbook name"
   ]
  },
  {
   "cell_type": "code",
   "execution_count": 140,
   "metadata": {},
   "outputs": [],
   "source": [
    "def query_workbook_id(site_id, token, workbook_name):\n",
    "    response = requests.get(\n",
    "        URL + '/sites/{}/workbooks?filter=name:eq:{}'.format(site_id, workbook_name), \n",
    "        verify=False, \n",
    "        headers={'Accept': 'application/json',\n",
    "                'X-Tableau-Auth': token}\n",
    "    )\n",
    "    status = check_error(response, \"query_workbook_id\")\n",
    "    return response.json()"
   ]
  },
  {
   "cell_type": "markdown",
   "metadata": {},
   "source": [
    "### Fn to find view ids from list of view names"
   ]
  },
  {
   "cell_type": "code",
   "execution_count": 141,
   "metadata": {},
   "outputs": [],
   "source": [
    "def query_workbook_view_ids(site_id, token, workbook_id, views_list):\n",
    "    response = requests.get(\n",
    "        URL + '/sites/{}/workbooks/{}'.format(site_id, workbook_id), \n",
    "        verify=False, \n",
    "        headers={'Accept': 'application/json',\n",
    "                'X-Tableau-Auth': token}\n",
    "    )\n",
    "    view_ids = []\n",
    "    for view in response.json()['workbook']['views']['view']:\n",
    "        if view['name'] in views_list:\n",
    "            view_ids.append(view['id'])\n",
    "    status = check_error(response, \"query_workbook_view_ids\")\n",
    "    return view_ids, status"
   ]
  },
  {
   "cell_type": "markdown",
   "metadata": {},
   "source": [
    "### Fn to query single view and return it as an image"
   ]
  },
  {
   "cell_type": "code",
   "execution_count": 142,
   "metadata": {},
   "outputs": [],
   "source": [
    "def query_view_image(site_id, token, view_id, filtername, filtervalue, filename, applyfilter):\n",
    "    REST_URL =  URL + '/sites/{}/views/{}/image?maxAge=1'.format(site_id, view_id)\n",
    "    if applyfilter:\n",
    "        REST_URL += '&vf_{}={}'.format(urllib.parse.quote_plus(filtername), urllib.parse.quote_plus(filtervalue))\n",
    "    \n",
    "    response = requests.get(\n",
    "        REST_URL, stream=True, verify=False, \n",
    "        headers={'Accept': 'application/json',\n",
    "                'X-Tableau-Auth': token}\n",
    "    )\n",
    "\n",
    "    status = check_error(response, \"query_view_image\")\n",
    "    with open(filename, 'wb') as f:\n",
    "        for chunk in response:\n",
    "            f.write(chunk)\n",
    "    return status"
   ]
  },
  {
   "cell_type": "markdown",
   "metadata": {},
   "source": [
    "### Fn to query single view and return it as a pdf"
   ]
  },
  {
   "cell_type": "code",
   "execution_count": 143,
   "metadata": {},
   "outputs": [],
   "source": [
    "def query_view_pdf(site_id, token, view_id, filtername, filtervalue, filename, applyfilter):\n",
    "    REST_URL =  URL + '/sites/{}/views/{}/pdf?type=A4&orientation=Landscape'.format(site_id, view_id)\n",
    "    if applyfilter:\n",
    "        REST_URL += '&vf_{}={}'.format(urllib.parse.quote_plus(filtername), urllib.parse.quote_plus(filtervalue))\n",
    "    \n",
    "    response = requests.get(\n",
    "        REST_URL, stream=True, verify=False, \n",
    "        headers={'Accept': 'application/json',\n",
    "                'X-Tableau-Auth': token}\n",
    "    )    \n",
    "        \n",
    "    status = check_error(response, \"query_view_pdf\")\n",
    "    with open(filename, 'wb') as f:\n",
    "        for chunk in response:\n",
    "            f.write(chunk)\n",
    "    return status"
   ]
  },
  {
   "cell_type": "markdown",
   "metadata": {},
   "source": [
    "### Fn to query view data"
   ]
  },
  {
   "cell_type": "code",
   "execution_count": 144,
   "metadata": {},
   "outputs": [],
   "source": [
    "def query_view_data(site_id, token, view_id):\n",
    "    response = requests.get(\n",
    "        URL + '/sites/{}/views/{}/data'.format(site_id, view_id), \n",
    "        verify=False, \n",
    "        headers={'Accept': 'application/json',\n",
    "                'X-Tableau-Auth': token}\n",
    "    ).text.splitlines()\n",
    "    response.remove(response[0])\n",
    "    #status = check_error(response, \"query_view_data\")\n",
    "    return response"
   ]
  },
  {
   "cell_type": "markdown",
   "metadata": {},
   "source": [
    "### Fn to generate pdf with from queried temp pdf files"
   ]
  },
  {
   "cell_type": "code",
   "execution_count": 145,
   "metadata": {},
   "outputs": [],
   "source": [
    "def gen_pdf_from_pdfs(file_loc, pdf_filename, num_views):\n",
    "    #print(\"Developing PDF for {}...\".format(filter_value_name))\n",
    "    mergedObject = PdfFileMerger()\n",
    "\n",
    "    for fileNumber in range(1,num_views):\n",
    "        mergedObject.append(PdfFileReader(r'{}\\temp_{}.pdf'.format(file_loc, fileNumber)))\n",
    "        fileNumber += 1\n",
    "    \n",
    "    mergedObject.write(r'{}\\{}.pdf'.format(file_loc, pdf_filename))\n",
    "    \n",
    "    print(\"Saved pdf\")\n",
    "    \n",
    "    for fileNumber in range(1,num_views):\n",
    "        if os.path.exists(r'{}\\temp_{}.pdf'.format(file_loc, fileNumber)):\n",
    "            os.remove(r'{}\\temp_{}.pdf'.format(file_loc, fileNumber))\n",
    "            print(\"File deleted!\")\n",
    "        else:\n",
    "            print(\"The file does not exist\")\n",
    "    \n",
    "    \n",
    "    current_timestamp = datetime.datetime.now().strftime(\"%Y-%m-%d %H:%M:%S\")\n",
    "    log_file.write(\"\\n{} Saved pdf!\".format(current_timestamp))"
   ]
  },
  {
   "cell_type": "markdown",
   "metadata": {},
   "source": [
    "### Fn to generate pdf with from queried temp image files"
   ]
  },
  {
   "cell_type": "code",
   "execution_count": 146,
   "metadata": {},
   "outputs": [],
   "source": [
    "def gen_pdf_from_imgs(file_loc, datepart_filename, num_views):\n",
    "    #print(\"Developing PDF for {}...\".format(filter_value_name))\n",
    "    #for chars in illegal_chars:\n",
    "    #    filter_value_name = filter_value_name.replace(chars, '#')\n",
    "    pdf = FPDF(orientation = 'L', unit = 'mm', format = 'A4')\n",
    "    pdf.set_left_margin(8)\n",
    "    for count in range(1,num_views):\n",
    "        pdf.add_page()\n",
    "        pdf.image(r'{}\\temp_{}.png'.format(file_loc, count), x=8, y=8, w=282)\n",
    "        \n",
    "    filename = r'{}\\{}.pdf'.format(file_loc, datepart_filename)\n",
    "    pdf.output(filename)\n",
    "    print(\"Saved pdf {}\".format(filename))\n",
    "    \n",
    "    for fileNumber in range(1,num_views):\n",
    "        if os.path.exists(r'{}\\temp_{}.png'.format(file_loc, fileNumber)):\n",
    "            os.remove(r'{}\\temp_{}.png'.format(file_loc, fileNumber))\n",
    "            print(\"File deleted!\")\n",
    "        else:\n",
    "            print(\"The file does not exist\")\n",
    "    \n",
    "    current_timestamp = datetime.datetime.now().strftime(\"%Y-%m-%d %H:%M:%S\")\n",
    "    log_file.write(\"\\n{} Saved pdf!\".format(current_timestamp))"
   ]
  },
  {
   "cell_type": "markdown",
   "metadata": {},
   "source": [
    "### Fn to download whole workbook as pdf"
   ]
  },
  {
   "cell_type": "code",
   "execution_count": 168,
   "metadata": {},
   "outputs": [],
   "source": [
    "def workbook_as_pdf(site_id, token, workbook_id, file_loc, pdf_filename):\n",
    "    response = requests.get(\n",
    "            URL + '/sites/{}/workbooks/{}/pdf?maxAge=1&type=A4&orientation=Landscape'.format(site_id, workbook_id), \n",
    "            stream=True, verify=False, \n",
    "            headers={'Accept': 'application/json',\n",
    "                    'X-Tableau-Auth': token}\n",
    "    )\n",
    "    \n",
    "    status = check_error(response, \"download_workbook\")\n",
    "    \n",
    "    filename = r'{}\\{}'.format(file_loc, pdf_filename)\n",
    "    \n",
    "    with open(filename, 'wb') as f:\n",
    "        for chunk in response:\n",
    "            f.write(chunk)\n",
    "    return status"
   ]
  },
  {
   "cell_type": "markdown",
   "metadata": {},
   "source": [
    "### Fn to iterate over views in list of views and save temp pdfs, then call fn to merge pdfs "
   ]
  },
  {
   "cell_type": "code",
   "execution_count": 150,
   "metadata": {},
   "outputs": [],
   "source": [
    "def iterate_views_as_pdfs(site_id, token, view_ids, filter_names, filter_values, file_loc, pdf_filename):\n",
    "    #print(\"\\n\\nBeginning to retrieve dashboards for {}\".format(filter_value))\n",
    "    run = True\n",
    "    attempt = 0\n",
    "    if len(filter_names) > 0:\n",
    "        apply_filter = True\n",
    "    else:\n",
    "        apply_filter = False\n",
    "        \n",
    "    while (run == True):\n",
    "        count = 1\n",
    "        for view in view_ids:\n",
    "            for filter_name in filter_names or []:\n",
    "                for filter_value in filter_values or []:\n",
    "                    view_code = query_view_pdf(site_id, token, view, filter_name, filter_value,r\"{}\\temp_{}.pdf\".format(file_loc, count), True)\n",
    "                    count += 1\n",
    "                    if (view_code == 1):\n",
    "                        run = False\n",
    "                        attempt+=1\n",
    "                    else:\n",
    "                        if attempt > 3:\n",
    "                            run = False\n",
    "                        else:\n",
    "                            run = True\n",
    "                            attempt+=1\n",
    "                            break\n",
    "                        \n",
    "    gen_pdf_from_pdfs(file_loc, pdf_filename, count)"
   ]
  },
  {
   "cell_type": "markdown",
   "metadata": {},
   "source": [
    "### Fn to iterate over views in list of views and save temp imgs, then call fn to insert imgs into a pdf"
   ]
  },
  {
   "cell_type": "code",
   "execution_count": 153,
   "metadata": {},
   "outputs": [],
   "source": [
    "def iterate_views_as_imgs(site_id, token, view_ids, filter_names, filter_values, file_loc, datepart_filename):\n",
    "    #print(\"\\n\\nBeginning to retrieve dashboards for {}\".format(filter_value))\n",
    "    run = True\n",
    "    attempt = 0\n",
    "    if len(filter_names) > 0:\n",
    "        apply_filter = True\n",
    "    else:\n",
    "        apply_filter = False\n",
    "        \n",
    "    while (run == True):\n",
    "        count = 1\n",
    "        for view in view_ids:\n",
    "            for filter_name in filter_names or []:\n",
    "                for filter_value in filter_values or []:\n",
    "                    view_code = query_view_image(site_id, token, view, filter_name, filter_value,r\"{}\\temp_{}.png\".format(file_loc, count), apply_filter)\n",
    "                    count += 1\n",
    "                    if (view_code == 1):\n",
    "                        run = False\n",
    "                        attempt+=1\n",
    "                    else:\n",
    "                        if attempt > 3:\n",
    "                            run = False\n",
    "                        else:\n",
    "                            run = True\n",
    "                            attempt+=1\n",
    "                            break\n",
    "                        \n",
    "    gen_pdf_from_imgs(file_loc, datepart_filename, count)"
   ]
  },
  {
   "cell_type": "markdown",
   "metadata": {},
   "source": [
    "### Fn to find year and week number"
   ]
  },
  {
   "cell_type": "code",
   "execution_count": 154,
   "metadata": {},
   "outputs": [],
   "source": [
    "def create_date_filename():\n",
    "    week = int(datetime.date.today().strftime(\"%V\"))\n",
    "    if week == 1:\n",
    "        week = 52\n",
    "        year = int(datetime.date.today().strftime(\"%Y\"))-1\n",
    "        date_part_filename = {}\n",
    "    else:\n",
    "        week-=1\n",
    "        year = int(datetime.date.today().strftime(\"%Y\"))\n",
    "    return \"{}{}\".format(year, week)\n"
   ]
  },
  {
   "cell_type": "markdown",
   "metadata": {},
   "source": [
    "### Fn to check login method and sign into Server"
   ]
  },
  {
   "cell_type": "code",
   "execution_count": 155,
   "metadata": {},
   "outputs": [],
   "source": [
    "def server_sign_in():\n",
    "    if connection[\"server_connection\"][\"loginmethod\"] == 'PAT':\n",
    "        username = connection[\"PAT_auth_details\"][\"token\"]\n",
    "        if username == \"\":\n",
    "            print(\"No username mentioned in config file!! Please enter username in config file and try again\")\n",
    "            exit()\n",
    "        password = connection[\"PAT_auth_details\"][\"token_secret\"]\n",
    "        if password == \"\":\n",
    "            password = getpass(\"Enter your PAT for the Tableau Server: \")\n",
    "        site_id, token = sign_in_pat(username, password, site_content_url)\n",
    "        if token == 0:\n",
    "            print(\"ZERO TOKEN A\")\n",
    "            exit()\n",
    "    elif connection[\"server_connection\"][\"loginmethod\"] == 'Local':\n",
    "        username = connection[\"local_auth_details\"][\"username\"]\n",
    "        if username == \"\":\n",
    "            print(\"No username mentioned in config file!! Please enter username in config file and try again\")\n",
    "        password = connection[\"local_auth_details\"][\"password\"]\n",
    "        if password == \"\":\n",
    "            password = getpass(\"Enter your password for the Tableau Server: \")\n",
    "        site_id, token = sign_in(username, password, site_content_url)\n",
    "        if token == 0:\n",
    "            print(\"ZERO TOKEN B\")\n",
    "            exit()\n",
    "    else:\n",
    "        print(\"Incorrect login method specified in config file under server_connection > loginmethod! Login method has to be Local or PAT\")\n",
    "        exit()\n",
    "    open_log(log_file)\n",
    "    return site_id, token"
   ]
  },
  {
   "cell_type": "markdown",
   "metadata": {},
   "source": [
    "## -- Generate PDF Fns --"
   ]
  },
  {
   "cell_type": "markdown",
   "metadata": {},
   "source": [
    "### Fn to generate PDF from queried images (Praveen's code)"
   ]
  },
  {
   "cell_type": "code",
   "execution_count": 156,
   "metadata": {},
   "outputs": [],
   "source": [
    "def gen_pdf_from_view_imgs():\n",
    "    site_id, token = server_sign_in()\n",
    "    \n",
    "    #Find workbook id from name\n",
    "    workbook_response = query_workbook_id(site_id, token, urllib.parse.quote_plus(config[\"workbook_details\"][\"workbookname\"]))\n",
    "    \n",
    "    if (config['workbook_details']['filtername'] == \"\"):\n",
    "        filter_names = [\"\"]\n",
    "        filter_values = [\"\"]\n",
    "        print(\"Iterating over views with no filters...\")\n",
    "    else:\n",
    "        filter_names = gen_list(config['workbook_details']['filtername'])\n",
    "        filter_values = gen_list(config['workbook_details']['applyfilters'])\n",
    "        print(\"Iterating over views with filters applied...\")\n",
    "    \n",
    "    datepart_filename = config[\"workbook_details\"][\"workbookname\"] + ' - ' + create_date_filename()\n",
    "\n",
    "    iterate_views_as_imgs(site_id, token, query_workbook_view_ids(site_id, token, workbook_response['workbooks']['workbook'][0]['id'], gen_list(config[\"workbook_details\"][\"viewnames\"]))[0], filter_names, filter_values, config[\"workbook_details\"][\"download_loc\"], datepart_filename)\n",
    "    \n",
    "    sign_out(site_id, token)\n",
    "    \n",
    "    return"
   ]
  },
  {
   "cell_type": "markdown",
   "metadata": {},
   "source": [
    "### Fn to generate PDF from queried pdfs (Chris' code)"
   ]
  },
  {
   "cell_type": "code",
   "execution_count": 164,
   "metadata": {},
   "outputs": [],
   "source": [
    "def gen_pdf_from_view_pdfs():\n",
    "    site_id, token = server_sign_in()\n",
    "    \n",
    "    #Find workbook id from name\n",
    "    workbook_response = query_workbook_id(site_id, token, urllib.parse.quote_plus(config[\"workbook_details\"][\"workbookname\"]))\n",
    "    \n",
    "    Category = input('Which Company set of views do you want to export? Currys/Ikea/Staples - ')\n",
    "\n",
    "    try:\n",
    "        if Category == \"\":\n",
    "            filter_names = [\"\"]\n",
    "            filter_values = [\"\"]\n",
    "            views_list = config[\"workbook_details\"][\"viewnames\"]\n",
    "            print(\"Iterating over views with no filters...\")\n",
    "        else:\n",
    "            filter_names = gen_list(config[Category]['filtername'])\n",
    "            filter_values = gen_list(config[Category]['applyfilters'])\n",
    "            views_list = gen_list(config[Category][\"viewnames\"])\n",
    "            print(\"Iterating over views with filters applied...\")\n",
    "    except KeyError:\n",
    "        print(\"The following Company doesn\\'t exist, or hasn\\'t yet been configured - \" + Category)\n",
    "        print(\"Please try running the function again.\")\n",
    "        return\n",
    "    except:\n",
    "        print('Another error has occured, please try again.')\n",
    "        return \n",
    "\n",
    "    pdf_filename = config[\"workbook_details\"][\"workbookname\"] + ' - ' + Category + ' - ' + create_date_filename() + '.pdf'\n",
    "\n",
    "    iterate_views_as_pdfs(site_id, token, query_workbook_view_ids(site_id, token, workbook_response['workbooks']['workbook'][0]['id'], views_list)[0], filter_names, filter_values, config[\"workbook_details\"][\"download_loc\"], pdf_filename)\n",
    "    \n",
    "    sign_out(site_id, token)\n",
    "    \n",
    "    return"
   ]
  },
  {
   "cell_type": "markdown",
   "metadata": {},
   "source": [
    "### Fn to generate PDF from whole workbook (Chris' code)"
   ]
  },
  {
   "cell_type": "code",
   "execution_count": 178,
   "metadata": {},
   "outputs": [],
   "source": [
    "def gen_pdf_from_workbook():\n",
    "    site_id, token = server_sign_in()\n",
    "    \n",
    "    #Find workbook id from name\n",
    "    workbook_response = query_workbook_id(site_id, token, urllib.parse.quote_plus(config[\"workbook_details\"][\"workbookname\"]))\n",
    "    \n",
    "    workbook_filename = config[\"workbook_details\"][\"workbookname\"] + ' - ' + create_date_filename() + '.pdf'\n",
    "\n",
    "    workbook_as_pdf(site_id, token, workbook_response['workbooks']['workbook'][0]['id'], config[\"workbook_details\"][\"download_loc\"], workbook_filename)\n",
    "    \n",
    "    sign_out(site_id, token)\n",
    "    \n",
    "    return"
   ]
  },
  {
   "cell_type": "markdown",
   "metadata": {},
   "source": [
    "## -- Calling generate functions --"
   ]
  },
  {
   "cell_type": "markdown",
   "metadata": {},
   "source": [
    "### Generate pdf from images"
   ]
  },
  {
   "cell_type": "code",
   "execution_count": 166,
   "metadata": {},
   "outputs": [
    {
     "name": "stdout",
     "output_type": "stream",
     "text": [
      "\t\tUser signed in successfully!\n",
      "\t\tQueried workbook name successfully!\n",
      "Iterating over views with no filters...\n",
      "\t\tQueried view image successfully!\n",
      "\t\tQueried view image successfully!\n",
      "\t\tQueried view image successfully!\n",
      "\t\tQueried view image successfully!\n",
      "\t\tQueried view image successfully!\n",
      "\t\tQueried view image successfully!\n",
      "Saved pdf C:\\Users\\chris\\Downloads\\Superstore - 202118.pdf\n",
      "File deleted!\n",
      "File deleted!\n",
      "File deleted!\n",
      "File deleted!\n",
      "File deleted!\n",
      "File deleted!\n",
      "\t\tUser signed out successfully!\n"
     ]
    }
   ],
   "source": [
    "gen_pdf_from_view_imgs()"
   ]
  },
  {
   "cell_type": "markdown",
   "metadata": {},
   "source": [
    "### Generate pdf from pdfs"
   ]
  },
  {
   "cell_type": "code",
   "execution_count": 165,
   "metadata": {},
   "outputs": [
    {
     "name": "stdout",
     "output_type": "stream",
     "text": [
      "\t\tUser signed in successfully!\n",
      "\t\tQueried workbook name successfully!\n",
      "Which Company set of views do you want to export? Currys/Ikea/Staples - Ikea\n",
      "Iterating over views with filters applied...\n",
      "\t\tQueried view pdf successfully!\n",
      "\t\tQueried view pdf successfully!\n",
      "\t\tQueried view pdf successfully!\n",
      "\t\tQueried view pdf successfully!\n",
      "Saved pdf\n",
      "File deleted!\n",
      "File deleted!\n",
      "File deleted!\n",
      "File deleted!\n",
      "\t\tUser signed out successfully!\n"
     ]
    }
   ],
   "source": [
    "gen_pdf_from_view_pdfs()"
   ]
  },
  {
   "cell_type": "markdown",
   "metadata": {},
   "source": [
    "### Generate pdf from workbook\n",
    "#### *Only downloads the last saved view in the workbook currently"
   ]
  },
  {
   "cell_type": "code",
   "execution_count": 177,
   "metadata": {
    "scrolled": true
   },
   "outputs": [
    {
     "name": "stdout",
     "output_type": "stream",
     "text": [
      "\t\tUser signed in successfully!\n",
      "\t\tQueried workbook name successfully!\n",
      "{'pagination': {'pageNumber': '1', 'pageSize': '100', 'totalAvailable': '1'}, 'workbooks': {'workbook': [{'project': {'id': '73f92832-e96b-4556-9876-694b2ba381fd', 'name': 'Personal'}, 'owner': {'id': 'c38ca55f-e391-4cb1-9166-033bff249678', 'name': 'chris.boyles@biztory.be'}, 'tags': {}, 'dataAccelerationConfig': {'accelerationEnabled': False}, 'id': '937b93c7-f4ce-449a-8211-a5142381942c', 'name': 'Superstore', 'description': '', 'contentUrl': 'Superstore', 'webpageUrl': 'http://tableau-penguin/#/site/ChrisBoyles/workbooks/2814', 'showTabs': 'false', 'size': '1', 'createdAt': '2021-05-10T11:15:42Z', 'updatedAt': '2021-05-12T14:20:29Z', 'encryptExtracts': 'false', 'defaultViewId': '5dd7011c-d608-4e7b-838a-4be2aa23ca13'}]}}\n",
      "937b93c7-f4ce-449a-8211-a5142381942c\n",
      "\t\tDownloaded Workbook successfully!\n",
      "\t\tUser signed out successfully!\n"
     ]
    }
   ],
   "source": [
    "gen_pdf_from_workbook()"
   ]
  },
  {
   "cell_type": "code",
   "execution_count": null,
   "metadata": {},
   "outputs": [],
   "source": []
  }
 ],
 "metadata": {
  "kernelspec": {
   "display_name": "Python 3",
   "language": "python",
   "name": "python3"
  },
  "language_info": {
   "codemirror_mode": {
    "name": "ipython",
    "version": 3
   },
   "file_extension": ".py",
   "mimetype": "text/x-python",
   "name": "python",
   "nbconvert_exporter": "python",
   "pygments_lexer": "ipython3",
   "version": "3.8.10"
  }
 },
 "nbformat": 4,
 "nbformat_minor": 2
}
