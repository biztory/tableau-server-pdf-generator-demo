{
 "cells": [
  {
   "cell_type": "markdown",
   "metadata": {},
   "source": [
    "# Python Script to create PDF from dashboard based on parameters\n",
    "## Importing libraries and features"
   ]
  },
  {
   "cell_type": "code",
   "execution_count": null,
   "metadata": {},
   "outputs": [],
   "source": [
    "pip install PyPDF2"
   ]
  },
  {
   "cell_type": "code",
   "execution_count": 22,
   "metadata": {},
   "outputs": [],
   "source": [
    "import os, keyring, re, configparser, warnings, urllib, requests, shutil, json\n",
    "from PyPDF2 import PdfFileMerger, PdfFileReader\n",
    "from fpdf import FPDF\n",
    "from PIL import Image\n",
    "import math\n",
    "import datetime\n",
    "from getpass import getpass\n",
    "from pathlib import Path\n",
    "warnings.filterwarnings('ignore')\n",
    "config = configparser.ConfigParser()\n",
    "connection = configparser.ConfigParser()\n",
    "config.read(r\".\\tableau_server_pdf_generator_config.cfg\")\n",
    "connection.read(r\".\\tableau_server_pdf_generator_connection.cfg\")\n",
    "illegal_chars = config[\"logging_details\"][\"illegalchars\"].split(',')"
   ]
  },
  {
   "cell_type": "markdown",
   "metadata": {},
   "source": [
    "## Open Log file"
   ]
  },
  {
   "cell_type": "code",
   "execution_count": 2,
   "metadata": {},
   "outputs": [],
   "source": [
    "log_file_loc = r\"{}\\{}\".format(str(Path.home()), config[\"logging_details\"][\"logfilename\"])\n",
    "log_file = open(log_file_loc, \"a+\")"
   ]
  },
  {
   "cell_type": "markdown",
   "metadata": {},
   "source": [
    "## Functions\n",
    "### Fn to check errors"
   ]
  },
  {
   "cell_type": "code",
   "execution_count": 3,
   "metadata": {},
   "outputs": [],
   "source": [
    "def check_error(request, task):\n",
    "    if task == \"sign_in\":\n",
    "        if request.status_code == 200:\n",
    "            print(\"\\t\\tUser signed in successfully!\")\n",
    "            return 1\n",
    "        elif request.status_code == 404:\n",
    "            print(\"\\t\\tERROR: User not found!!\")\n",
    "            return 0\n",
    "        elif request.status_code == 401:\n",
    "            print(\"\\t\\tERROR: Login error!!\")\n",
    "            return 0\n",
    "        else:\n",
    "            print(\"\\t\\tERROR: Request error check again!!\")\n",
    "            return 0\n",
    "        \n",
    "    elif task == \"sign_out\":\n",
    "        if request.status_code == 204:\n",
    "            print(\"\\t\\tUser signed out successfully!\")\n",
    "            return 1\n",
    "        else:\n",
    "            print(\"\\t\\tERROR: Request error check again!!\")\n",
    "            return 0\n",
    "        \n",
    "    elif task == \"create_users\":\n",
    "        if request.status_code == 201:\n",
    "            print(\"\\t\\tUser created successfully!\")\n",
    "            return 1\n",
    "        elif request.status_code == 404:\n",
    "            print(\"\\t\\tERROR: Site not found!!\")\n",
    "            return 0\n",
    "        elif request.status_code == 409:\n",
    "            print(\"\\t\\tERROR: User exists or license unavailable, check again!!\")\n",
    "            return 0\n",
    "        elif request.status_code == 400:\n",
    "            print(\"\\t\\tERROR: Invalid site role or bad request!!\")\n",
    "            return 0\n",
    "        else:\n",
    "            print(\"\\t\\tERROR: Request error check again!!\")\n",
    "            return 0\n",
    "        \n",
    "    elif task == \"update_users\":\n",
    "        if request.status_code == 200:\n",
    "            print(\"\\t\\tUser information updated successfully!\")\n",
    "            return 1\n",
    "        elif request.status_code == 404:\n",
    "            print(\"\\t\\tERROR: User or Site not found!!\")\n",
    "            return 0\n",
    "        elif request.status_code == 409:\n",
    "            print(\"\\t\\tERROR: User exists or license unavailable, check again!!\")\n",
    "            return 0\n",
    "        elif request.status_code == 400:\n",
    "            print(\"\\t\\tERROR: Invalid site role, email address or bad request!!\")\n",
    "            return 0\n",
    "        elif request.status_code == 403:\n",
    "            print(\"\\t\\tERROR: Licensing update on self or guest account not allowed!!\")\n",
    "            return 0\n",
    "        else:\n",
    "            print(\"\\t\\tERROR: Request error check again!!\")\n",
    "            return 0\n",
    "        \n",
    "    elif task == \"find_group_id\":\n",
    "        if request.status_code == 200:\n",
    "            print(\"\\t\\tGroup found!\")\n",
    "            return 1\n",
    "        elif request.status_code == 404:\n",
    "            print(\"\\t\\tERROR: Site not found!!\")\n",
    "            return 0\n",
    "        else:\n",
    "            print(\"\\t\\tERROR: Request error check again!!\")\n",
    "            return 0\n",
    "        \n",
    "    elif task == \"add_user_group\":\n",
    "        if request.status_code == 200:\n",
    "            print(\"\\t\\tUser added to group successfully!\")\n",
    "            return 1\n",
    "        elif request.status_code == 404:\n",
    "            print(\"\\t\\tERROR: Site or Group not found!!\")\n",
    "            return 0\n",
    "        elif request.status_code == 409:\n",
    "            print(\"\\t\\tERROR: Specified User already in group!!\")\n",
    "            return 0\n",
    "        else:\n",
    "            print(\"\\t\\tERROR: Request error check again!!\")\n",
    "            return 0\n",
    "    elif task == \"query_workbooks_site\":\n",
    "        if request.status_code == 200:\n",
    "            print(\"\\t\\tQueried workbook name successfully!\")\n",
    "            return 1\n",
    "        elif request.status_code == 400:\n",
    "            print(\"\\t\\tERROR: Pagination error!!\")\n",
    "            return \n",
    "        elif request.status_code == 403:\n",
    "            print(\"\\t\\tERROR: Forbidden to read workbook!!\")\n",
    "            return 0\n",
    "        elif request.status_code == 404:\n",
    "            print(\"\\t\\tERROR: Site or workbook not found!!\")\n",
    "            return 0\n",
    "        else:\n",
    "            print(\"\\t\\tERROR: Request error check again!!\")\n",
    "            return 0\n",
    "    elif task == \"query_view_image\":\n",
    "        if request.status_code == 200:\n",
    "            print(\"\\t\\tQueried view image successfully!\")\n",
    "            return 1\n",
    "        elif request.status_code == 403:\n",
    "            print(\"\\t\\tERROR: Forbidden to view image!!\")\n",
    "            return 0\n",
    "        elif request.status_code == 404:\n",
    "            print(\"\\t\\tERROR: Site, workbook or view not found!!\")\n",
    "            return 0\n",
    "        else:\n",
    "            print(\"\\t\\tERROR: Request error check again!!\")\n",
    "            return 0\n",
    "    elif task == \"query_view_pdf\":\n",
    "        if request.status_code == 200:\n",
    "            print(\"\\t\\tQueried view pdf successfully!\")\n",
    "            return 1\n",
    "        elif request.status_code == 400:\n",
    "            print(\"\\t\\tERROR: The view ID in the URI doesn't correspond to a view available on the specified site.!!\")\n",
    "            return 0\n",
    "        elif request.status_code == 401:\n",
    "            print(\"\\t\\tERROR: Unauthorized!!\")\n",
    "            return 0\n",
    "        elif request.status_code == 403:\n",
    "            print(\"\\t\\tERROR: Forbidden to view pdf!!\")\n",
    "            return 0\n",
    "        elif request.status_code == 404:\n",
    "            print(\"\\t\\tERROR: Site, workbook or view not found!!\")\n",
    "            return 0\n",
    "        elif request.status_code == 405:\n",
    "            print(\"\\t\\tERROR: Invalid request method!!\")\n",
    "            return 0\n",
    "        else:\n",
    "            print(\"\\t\\tERROR: Request error check again!!\")\n",
    "            return 0\n",
    "    elif task == \"download_workbook\":\n",
    "        if request.status_code == 200:\n",
    "            print(\"\\t\\tDownloaded Workbook successfully!\")\n",
    "            return 1\n",
    "        elif request.status_code == 403:\n",
    "            print(\"\\t\\tERROR: Forbidden to view workbook!!\")\n",
    "            return 0\n",
    "        elif request.status_code == 404:\n",
    "            print(\"\\t\\tERROR: Site or workbook not found!!\")\n",
    "            return 0\n",
    "        else:\n",
    "            print(\"\\t\\tERROR: Request error check again!!\")\n",
    "            return 0\n",
    "    elif task == \"query_view_data\":\n",
    "        if request.status_code == 200:\n",
    "            print(\"\\t\\tQueried view data successfully!\")\n",
    "            return 1\n",
    "        elif request.status_code == 401:\n",
    "            print(\"\\t\\tERROR: Invalid token!!\")\n",
    "            return 0\n",
    "        elif request.status_code == 403:\n",
    "            print(\"\\t\\tERROR: Forbidden to view data!!\")\n",
    "            return 0\n",
    "        elif request.status_code == 404:\n",
    "            print(\"\\t\\tERROR: Site, workbook or view not found!!\")\n",
    "            return 0\n",
    "        else:\n",
    "            print(\"\\t\\tERROR: Request error check again!!\")\n",
    "            return 0"
   ]
  },
  {
   "cell_type": "markdown",
   "metadata": {},
   "source": [
    "### Fn to sign in to Server with a password"
   ]
  },
  {
   "cell_type": "code",
   "execution_count": 4,
   "metadata": {},
   "outputs": [],
   "source": [
    "def sign_in(username, password, site=\"\"):\n",
    "    body = {\n",
    "        \"credentials\": {\n",
    "            \"name\": username,\n",
    "            \"password\": password,\n",
    "            \"site\": {\n",
    "                \"contentUrl\": site\n",
    "            }\n",
    "        }\n",
    "    }\n",
    "    response = requests.post(\n",
    "        URL + '/auth/signin', \n",
    "        json=body, \n",
    "        verify=False, \n",
    "        headers={'Accept': 'application/json'}\n",
    "    )\n",
    "    \n",
    "    status = check_error(response, \"sign_in\")\n",
    "    if status:\n",
    "        return response.json()['credentials']['site']['id'], response.json()['credentials']['token']\n",
    "    else:\n",
    "        return 0,0"
   ]
  },
  {
   "cell_type": "markdown",
   "metadata": {},
   "source": [
    "### Fn to sign in to Server with a PAT"
   ]
  },
  {
   "cell_type": "code",
   "execution_count": 5,
   "metadata": {},
   "outputs": [],
   "source": [
    "def sign_in_pat(username, password, site=\"\"):\n",
    "    body = {\n",
    "        \"credentials\": {\n",
    "            \"personalAccessTokenName\": username,\n",
    "            \"personalAccessTokenSecret\": password,\n",
    "            \"site\": {\n",
    "                \"contentUrl\": site\n",
    "            }\n",
    "        }\n",
    "    }\n",
    "    response = requests.post(\n",
    "        URL + '/auth/signin', \n",
    "        json=body, \n",
    "        verify=False, \n",
    "        headers={'Accept': 'application/json'}\n",
    "    )\n",
    "    \n",
    "    status = check_error(response, \"sign_in\")\n",
    "    if status:\n",
    "        return response.json()['credentials']['site']['id'], response.json()['credentials']['token']\n",
    "    else:\n",
    "        return 0,0"
   ]
  },
  {
   "cell_type": "markdown",
   "metadata": {},
   "source": [
    "### Fn to sign out from Server"
   ]
  },
  {
   "cell_type": "code",
   "execution_count": 6,
   "metadata": {},
   "outputs": [],
   "source": [
    "def sign_out(site_id, token):\n",
    "    response = requests.post(\n",
    "        URL + '/auth/signout', \n",
    "        verify=False, \n",
    "        headers={'Accept': 'application/json',\n",
    "                'X-Tableau-Auth': token}\n",
    "    )\n",
    "    status = check_error(response, \"sign_out\")\n",
    "    return status"
   ]
  },
  {
   "cell_type": "markdown",
   "metadata": {},
   "source": [
    "### Fn to find workbook id"
   ]
  },
  {
   "cell_type": "code",
   "execution_count": 7,
   "metadata": {},
   "outputs": [],
   "source": [
    "def query_workbooks_site(site_id, token, workbook_name):\n",
    "    response = requests.get(\n",
    "        URL + '/sites/{}/workbooks?filter=name:eq:{}'.format(site_id, workbook_name), \n",
    "        verify=False, \n",
    "        headers={'Accept': 'application/json',\n",
    "                'X-Tableau-Auth': token}\n",
    "    )\n",
    "    status = check_error(response, \"query_workbooks_site\")\n",
    "    return response.json()"
   ]
  },
  {
   "cell_type": "markdown",
   "metadata": {},
   "source": [
    "### Fn to generate list of views"
   ]
  },
  {
   "cell_type": "code",
   "execution_count": 8,
   "metadata": {},
   "outputs": [],
   "source": [
    "def gen_list(orig_list):\n",
    "    temp_list = orig_list.split(',')\n",
    "    final_list = []\n",
    "    for item in temp_list:\n",
    "        item_name = (item.lstrip()).rstrip()\n",
    "        final_list.append(item_name)\n",
    "    return final_list"
   ]
  },
  {
   "cell_type": "markdown",
   "metadata": {},
   "source": [
    "### Fn to find view id"
   ]
  },
  {
   "cell_type": "code",
   "execution_count": 9,
   "metadata": {},
   "outputs": [],
   "source": [
    "def query_workbook(site_id, token, workbook_id, views_list):\n",
    "    response = requests.get(\n",
    "        URL + '/sites/{}/workbooks/{}'.format(site_id, workbook_id), \n",
    "        verify=False, \n",
    "        headers={'Accept': 'application/json',\n",
    "                'X-Tableau-Auth': token}\n",
    "    )\n",
    "    view_ids = []\n",
    "    for view in response.json()['workbook']['views']['view']:\n",
    "        if view['name'] in views_list:\n",
    "            view_ids.append(view['id'])\n",
    "    status = check_error(response, \"query_workbook\")\n",
    "    return view_ids, status"
   ]
  },
  {
   "cell_type": "markdown",
   "metadata": {},
   "source": [
    "## Fn to query view as pdf"
   ]
  },
  {
   "cell_type": "code",
   "execution_count": 10,
   "metadata": {},
   "outputs": [],
   "source": [
    "def query_view_pdf(site_id, token, view_id, filtername, filtervalue, filename, applyfilter):\n",
    "    if applyfilter:\n",
    "        response = requests.get(\n",
    "            URL + '/sites/{}/views/{}/pdf?type=A4&orientation=Landscape&vf_{}={}'.format(site_id, view_id, urllib.parse.quote_plus(filtername), urllib.parse.quote_plus(filtervalue)), \n",
    "            stream=True, verify=False, \n",
    "            headers={'Accept': 'application/json',\n",
    "                    'X-Tableau-Auth': token}\n",
    "        )\n",
    "    else:\n",
    "        response = requests.get(\n",
    "            URL + '/sites/{}/views/{}/pdf?type=A4&orientation=Landscape'.format(site_id, view_id), \n",
    "            stream=True, verify=False, \n",
    "            headers={'Accept': 'application/json',\n",
    "                    'X-Tableau-Auth': token}\n",
    "        )\n",
    "    status = check_error(response, \"query_view_pdf\")\n",
    "    with open(filename, 'wb') as f:\n",
    "        for chunk in response:\n",
    "            f.write(chunk)\n",
    "    return status"
   ]
  },
  {
   "cell_type": "markdown",
   "metadata": {},
   "source": [
    "### Fn to generate pdf with from temp pdf files"
   ]
  },
  {
   "cell_type": "code",
   "execution_count": 11,
   "metadata": {},
   "outputs": [],
   "source": [
    "def gen_pdf_from_pdfs(filter_value_name, file_loc, pdf_filename, num_views):\n",
    "    print(\"Developing PDF for {}...\".format(filter_value_name))\n",
    "    mergedObject = PdfFileMerger()\n",
    "\n",
    "    for fileNumber in range(1,num_views):\n",
    "        mergedObject.append(PdfFileReader(r'{}\\temp_{}.pdf'.format(file_loc, fileNumber)))\n",
    "        fileNumber += 1\n",
    "    \n",
    "    mergedObject.write(pdf_filename)\n",
    "    \n",
    "    for fileNumber in range(1,num_views):\n",
    "        if os.path.exists(r'{}\\temp_{}.pdf'.format(file_loc, fileNumber)):\n",
    "            os.remove(r'{}\\temp_{}.pdf'.format(file_loc, fileNumber))\n",
    "            print(\"File deleted!\")\n",
    "        else:\n",
    "            print(\"The file does not exist\")\n",
    "    \n",
    "    print(\"Saved pdf\")"
   ]
  },
  {
   "cell_type": "markdown",
   "metadata": {},
   "source": [
    "### Fn to iterate over views and save pdfs"
   ]
  },
  {
   "cell_type": "code",
   "execution_count": 12,
   "metadata": {},
   "outputs": [],
   "source": [
    "def iterate_views_pdf_unfiltered(site_id, token, view_ids, file_loc, pdf_filename):\n",
    "    run = True\n",
    "    attempt = 0\n",
    "    while (run == True):\n",
    "        count = 1\n",
    "        for view in view_ids:\n",
    "            apply_filter = False\n",
    "            view_image_code = query_view_pdf(site_id, token, view, '', '',r\"{}\\temp_{}.pdf\".format(file_loc, count), False)\n",
    "            count+=1\n",
    "            if (view_image_code == 1):\n",
    "                run = False\n",
    "                attempt+=1\n",
    "            else:\n",
    "                if attempt > 3:\n",
    "                    run = False\n",
    "                else:\n",
    "                    run = True\n",
    "                    attempt+=1\n",
    "                    break\n",
    "        \n",
    "    gen_pdf_from_pdfs('All', file_loc, pdf_filename, count)"
   ]
  },
  {
   "cell_type": "markdown",
   "metadata": {},
   "source": [
    "### Fn to iterate over views apply filters and save pdfs"
   ]
  },
  {
   "cell_type": "code",
   "execution_count": 13,
   "metadata": {},
   "outputs": [],
   "source": [
    "def iterate_views_pdf_filtered(site_id, token, view_ids, apply_filter, filter_values, file_loc, pdf_filename):\n",
    "    count = 1\n",
    "    for view in view_ids:\n",
    "        for filter_name in apply_filter:\n",
    "            for filter_value in filter_values:\n",
    "                view_pdf = query_view_pdf(site_id, token, view, filter_name, filter_value,r\"{}\\temp_{}.pdf\".format(file_loc, count), True)\n",
    "                count += 1\n",
    "\n",
    "\n",
    "    gen_pdf_from_pdfs(filter_name, file_loc, pdf_filename, count)"
   ]
  },
  {
   "cell_type": "markdown",
   "metadata": {},
   "source": [
    "## Fn Running of PDF Generation"
   ]
  },
  {
   "cell_type": "code",
   "execution_count": 14,
   "metadata": {},
   "outputs": [],
   "source": [
    "def client_PDF_generation():\n",
    "    Category = input('Which Company set of views do you want to export? Currys/Ikea/Staples - ')\n",
    "\n",
    "    try:\n",
    "        if Category == \"\":\n",
    "            apply_filter = \"\"\n",
    "            filter_values = \"\"\n",
    "        else:\n",
    "            apply_filter = gen_list(config[Category]['filtername'])\n",
    "            filter_values = gen_list(config[Category]['applyfilters'])\n",
    "    except KeyError:\n",
    "        print(\"The following Company doesn\\'t exist, or hasn\\'t yet been configured - \" + Category)\n",
    "        print(\"Please try running the function again.\")\n",
    "        return\n",
    "    except:\n",
    "        print('Another error has occured, please try again.')\n",
    "        return \n",
    "\n",
    "    pdf_filename = config[\"workbook_details\"][\"workbookname\"] + ' - ' + Category + ' - ' + create_date_filename() + '.pdf'\n",
    "\n",
    "    if apply_filter == \"\":\n",
    "        print(\"Iterating over views with no filters...\")\n",
    "        iterate_views_pdf_unfiltered(site_id, token, query_workbook(site_id, token, workbook_response['workbooks']['workbook'][0]['id'], gen_list(config[\"workbook_details\"][\"viewnames\"]))[0], config[\"workbook_details\"][\"download_loc\"], pdf_filename)\n",
    "    else:\n",
    "        print(\"Iterating over views with filters applied...\")\n",
    "        iterate_views_pdf_filtered(site_id, token, query_workbook(site_id, token, workbook_response['workbooks']['workbook'][0]['id'], gen_list(config[Category][\"viewnames\"]))[0], apply_filter, filter_values, config[\"workbook_details\"][\"download_loc\"], pdf_filename)\n",
    "    return"
   ]
  },
  {
   "cell_type": "markdown",
   "metadata": {},
   "source": [
    "### Fn to find year and week number"
   ]
  },
  {
   "cell_type": "code",
   "execution_count": 15,
   "metadata": {},
   "outputs": [],
   "source": [
    "def create_date_filename():\n",
    "    week = int(datetime.date.today().strftime(\"%V\"))\n",
    "    if week == 1:\n",
    "        week = 52\n",
    "        year = int(datetime.date.today().strftime(\"%Y\"))-1\n",
    "        date_part_filename = {}\n",
    "    else:\n",
    "        week-=1\n",
    "        year = int(datetime.date.today().strftime(\"%Y\"))\n",
    "    return \"{}{}\".format(year, week)\n"
   ]
  },
  {
   "cell_type": "markdown",
   "metadata": {},
   "source": [
    "## Variables"
   ]
  },
  {
   "cell_type": "code",
   "execution_count": 16,
   "metadata": {},
   "outputs": [],
   "source": [
    "server = connection[\"server_connection\"][\"server\"] # Enter site in format tableau.company.com without the https before it\n",
    "site_content_url = connection[\"server_connection\"][\"site\"] # This can be found from the URL of the content and if using the Default site then this will be blank\n",
    "api_ver = connection[\"server_connection\"][\"api\"] # This can be found from the Tableau Server REST API reference\n",
    "URL = \"https://{}/api/{}\".format(server, api_ver)"
   ]
  },
  {
   "cell_type": "markdown",
   "metadata": {},
   "source": [
    "## Checking login method and signing into Server"
   ]
  },
  {
   "cell_type": "code",
   "execution_count": 17,
   "metadata": {},
   "outputs": [
    {
     "name": "stdout",
     "output_type": "stream",
     "text": [
      "\t\tUser signed in successfully!\n"
     ]
    }
   ],
   "source": [
    "if connection[\"server_connection\"][\"loginmethod\"] == 'PAT':\n",
    "    username = connection[\"PAT_auth_details\"][\"token\"]\n",
    "    if username == \"\":\n",
    "        print(\"No username mentioned in config file!! Please enter username in config file and try again\")\n",
    "        exit()\n",
    "    password = connection[\"PAT_auth_details\"][\"token_secret\"]\n",
    "    if password == \"\":\n",
    "        password = getpass(\"Enter your PAT for the Tableau Server: \")\n",
    "    site_id, token = sign_in_pat(username, password, site_content_url)\n",
    "    if token == 0:\n",
    "        print(\"ZERO TOKEN A\")\n",
    "        exit()\n",
    "elif connection[\"server_connection\"][\"loginmethod\"] == 'Local':\n",
    "    username = connection[\"local_auth_details\"][\"username\"]\n",
    "    if username == \"\":\n",
    "        print(\"No username mentioned in config file!! Please enter username in config file and try again\")\n",
    "    password = connection[\"local_auth_details\"][\"password\"]\n",
    "    if password == \"\":\n",
    "        password = getpass(\"Enter your password for the Tableau Server: \")\n",
    "    site_id, token = sign_in(username, password, site_content_url)\n",
    "    if token == 0:\n",
    "        print(\"ZERO TOKEN B\")\n",
    "        exit()\n",
    "else:\n",
    "    print(\"Incorrect login method specified in config file under server_connection > loginmethod! Login method has to be Local or PAT\")\n",
    "    exit()"
   ]
  },
  {
   "cell_type": "markdown",
   "metadata": {},
   "source": [
    "## Find workbook id from name"
   ]
  },
  {
   "cell_type": "code",
   "execution_count": 18,
   "metadata": {},
   "outputs": [
    {
     "name": "stdout",
     "output_type": "stream",
     "text": [
      "\t\tQueried workbook name successfully!\n"
     ]
    }
   ],
   "source": [
    "workbook_response = query_workbooks_site(site_id, token, urllib.parse.quote_plus(config[\"workbook_details\"][\"workbookname\"]))"
   ]
  },
  {
   "cell_type": "markdown",
   "metadata": {},
   "source": [
    "## -- Generate PDFs --"
   ]
  },
  {
   "cell_type": "markdown",
   "metadata": {},
   "source": [
    "## Iterate over views as PDFs and create PDF"
   ]
  },
  {
   "cell_type": "code",
   "execution_count": 21,
   "metadata": {},
   "outputs": [
    {
     "name": "stdout",
     "output_type": "stream",
     "text": [
      "Which Company set of views do you want to export? Currys/Ikea/Staples - Ikea\n",
      "Iterating over views with filters applied...\n",
      "\t\tQueried view pdf successfully!\n",
      "\t\tQueried view pdf successfully!\n",
      "\t\tQueried view pdf successfully!\n",
      "\t\tQueried view pdf successfully!\n",
      "Developing PDF for Category...\n",
      "File deleted!\n",
      "File deleted!\n",
      "File deleted!\n",
      "File deleted!\n",
      "Saved pdf\n"
     ]
    }
   ],
   "source": [
    "client_PDF_generation()"
   ]
  },
  {
   "cell_type": "markdown",
   "metadata": {},
   "source": [
    "## Close files and sign out of server"
   ]
  },
  {
   "cell_type": "code",
   "execution_count": null,
   "metadata": {},
   "outputs": [],
   "source": [
    "log_file.close()\n",
    "sign_out(site_id, token)"
   ]
  },
  {
   "cell_type": "code",
   "execution_count": null,
   "metadata": {},
   "outputs": [],
   "source": []
  }
 ],
 "metadata": {
  "kernelspec": {
   "display_name": "Python 3",
   "language": "python",
   "name": "python3"
  },
  "language_info": {
   "codemirror_mode": {
    "name": "ipython",
    "version": 3
   },
   "file_extension": ".py",
   "mimetype": "text/x-python",
   "name": "python",
   "nbconvert_exporter": "python",
   "pygments_lexer": "ipython3",
   "version": "3.8.5"
  }
 },
 "nbformat": 4,
 "nbformat_minor": 2
}
